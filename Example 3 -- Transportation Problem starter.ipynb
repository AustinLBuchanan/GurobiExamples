{
 "cells": [
  {
   "cell_type": "code",
   "execution_count": null,
   "metadata": {},
   "outputs": [],
   "source": [
    "# create Python dictionary for supply info\n",
    "ship_froms_supply = {'Oklahoma City, OK' : 2000, 'Boulder, CO' : 2000, 'Asheville, NC' : 2000}\n",
    "\n",
    "# create Python dictionary for demand info\n",
    "ship_tos_demand = {'Austin, TX' : 500, 'Baltimore, MD' : 300, 'Charlotte, NC' : 100, 'Chicago, IL' : 400, \n",
    "                   'Columbus, OH' : 150, 'Dallas, TX' : 500, 'Detroit, MI' : 150, 'Fort Worth, TX' : 150, \n",
    "                   'Houston, TX' : 500, 'Indianapolis, IN' : 150, 'Jacksonville, FL' : 100, 'Los Angeles, CA' : 1000, \n",
    "                   'Memphis, TN' : 200, 'New York, NY' : 500, 'Philadelphia, PA' : 250, 'Phoenix, AZ' : 150, \n",
    "                   'San Antonio, TX' : 150, 'San Diego, CA' : 300, 'San Francisco, CA' : 250, 'San Jose, CA' : 200}"
   ]
  },
  {
   "cell_type": "code",
   "execution_count": null,
   "metadata": {},
   "outputs": [],
   "source": [
    "# test the supply dictionary\n",
    "for ship_from in ship_froms_supply.keys():\n",
    "    print(\"Supply at\",ship_from,\"is\",ship_froms_supply[ship_from])"
   ]
  },
  {
   "cell_type": "code",
   "execution_count": null,
   "metadata": {},
   "outputs": [],
   "source": [
    "# test the demand dictionary\n",
    "for ship_to in ship_tos_demand.keys():\n",
    "    print(\"Demand at\",ship_to,\"is\",ship_tos_demand[ship_to])"
   ]
  },
  {
   "cell_type": "code",
   "execution_count": null,
   "metadata": {},
   "outputs": [],
   "source": [
    "# distance dictionary, (from,to) : mileage\n",
    "distance_in_miles = {\n",
    "    ( 'Oklahoma City, OK', 'Fort Worth, TX') : 203,\n",
    "    ( 'Oklahoma City, OK', 'Dallas, TX') : 205,\n",
    "    ( 'Oklahoma City, OK', 'Austin, TX') : 388,\n",
    "    ( 'Oklahoma City, OK', 'Houston, TX') : 444,\n",
    "    ( 'Oklahoma City, OK', 'Memphis, TN') : 467,\n",
    "    ( 'Oklahoma City, OK', 'San Antonio, TX') : 467,\n",
    "    ( 'Oklahoma City, OK', 'Indianapolis, IN') : 740,\n",
    "    ( 'Oklahoma City, OK', 'Chicago, IL') : 794,\n",
    "    ( 'Oklahoma City, OK', 'Columbus, OH') : 916,\n",
    "    ( 'Oklahoma City, OK', 'Phoenix, AZ') : 959,\n",
    "    ( 'Oklahoma City, OK', 'Detroit, MI') : 1048,\n",
    "    ( 'Oklahoma City, OK', 'Charlotte, NC') : 1093,\n",
    "    ( 'Oklahoma City, OK', 'Jacksonville, FL') : 1194,\n",
    "    ( 'Oklahoma City, OK', 'San Diego, CA') : 1312,\n",
    "    ( 'Oklahoma City, OK', 'Baltimore, MD') : 1319,\n",
    "    ( 'Oklahoma City, OK', 'Los Angeles, CA') : 1329,\n",
    "    ( 'Oklahoma City, OK', 'Philadelphia, PA') : 1384,\n",
    "    ( 'Oklahoma City, OK', 'New York, NY') : 1448,\n",
    "    ( 'Oklahoma City, OK', 'San Jose, CA') : 1585,\n",
    "    ( 'Oklahoma City, OK', 'San Francisco, CA') : 1626,\n",
    "    ( 'Boulder, CO', 'Fort Worth, TX') : 781,\n",
    "    ( 'Boulder, CO', 'Dallas, TX') : 823,\n",
    "    ( 'Boulder, CO', 'Phoenix, AZ') : 833,\n",
    "    ( 'Boulder, CO', 'Austin, TX') : 947,\n",
    "    ( 'Boulder, CO', 'San Antonio, TX') : 960,\n",
    "    ( 'Boulder, CO', 'Chicago, IL') : 1019,\n",
    "    ( 'Boulder, CO', 'Los Angeles, CA') : 1028,\n",
    "    ( 'Boulder, CO', 'Houston, TX') : 1057,\n",
    "    ( 'Boulder, CO', 'San Diego, CA') : 1090,\n",
    "    ( 'Boulder, CO', 'Indianapolis, IN') : 1104,\n",
    "    ( 'Boulder, CO', 'Memphis, TN') : 1114,\n",
    "    ( 'Boulder, CO', 'San Francisco, CA') : 1251,\n",
    "    ( 'Boulder, CO', 'Columbus, OH') : 1281,\n",
    "    ( 'Boulder, CO', 'Detroit, MI') : 1285,\n",
    "    ( 'Boulder, CO', 'San Jose, CA') : 1289,\n",
    "    ( 'Boulder, CO', 'Charlotte, NC') : 1583,\n",
    "    ( 'Boulder, CO', 'Baltimore, MD') : 1707,\n",
    "    ( 'Boulder, CO', 'Philadelphia, PA') : 1764,\n",
    "    ( 'Boulder, CO', 'Jacksonville, FL') : 1768,\n",
    "    ( 'Boulder, CO', 'New York, NY') : 1795,\n",
    "    ( 'Asheville, NC', 'Charlotte, NC') : 130,\n",
    "    ( 'Asheville, NC', 'Columbus, OH') : 392,\n",
    "    ( 'Asheville, NC', 'Jacksonville, FL') : 442,\n",
    "    ( 'Asheville, NC', 'Indianapolis, IN') : 470,\n",
    "    ( 'Asheville, NC', 'Memphis, TN') : 505,\n",
    "    ( 'Asheville, NC', 'Baltimore, MD') : 507,\n",
    "    ( 'Asheville, NC', 'Philadelphia, PA') : 609,\n",
    "    ( 'Asheville, NC', 'Detroit, MI') : 625,\n",
    "    ( 'Asheville, NC', 'Chicago, IL') : 651,\n",
    "    ( 'Asheville, NC', 'New York, NY') : 689,\n",
    "    ( 'Asheville, NC', 'Dallas, TX') : 957,\n",
    "    ( 'Asheville, NC', 'Fort Worth, TX') : 991,\n",
    "    ( 'Asheville, NC', 'Houston, TX') : 999,\n",
    "    ( 'Asheville, NC', 'Austin, TX') : 1151,\n",
    "    ( 'Asheville, NC', 'San Antonio, TX') : 1197,\n",
    "    ( 'Asheville, NC', 'Phoenix, AZ') : 1978,\n",
    "    ( 'Asheville, NC', 'Los Angeles, CA') : 2299,\n",
    "    ( 'Asheville, NC', 'San Diego, CA') : 2317,\n",
    "    ( 'Asheville, NC', 'San Jose, CA') : 2560,\n",
    "    ( 'Asheville, NC', 'San Francisco, CA') : 2595\n",
    "}"
   ]
  },
  {
   "cell_type": "code",
   "execution_count": null,
   "metadata": {},
   "outputs": [],
   "source": [
    "# test the distance dictionary\n",
    "distance_in_miles[('Oklahoma City, OK', 'Austin, TX')]"
   ]
  },
  {
   "cell_type": "code",
   "execution_count": null,
   "metadata": {},
   "outputs": [],
   "source": []
  }
 ],
 "metadata": {
  "kernelspec": {
   "display_name": "Python 3",
   "language": "python",
   "name": "python3"
  },
  "language_info": {
   "codemirror_mode": {
    "name": "ipython",
    "version": 3
   },
   "file_extension": ".py",
   "mimetype": "text/x-python",
   "name": "python",
   "nbconvert_exporter": "python",
   "pygments_lexer": "ipython3",
   "version": "3.8.5"
  }
 },
 "nbformat": 4,
 "nbformat_minor": 4
}
