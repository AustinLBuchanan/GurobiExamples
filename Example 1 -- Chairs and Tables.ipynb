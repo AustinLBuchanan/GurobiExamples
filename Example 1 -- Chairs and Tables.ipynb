{
 "cells": [
  {
   "cell_type": "code",
   "execution_count": 1,
   "metadata": {},
   "outputs": [],
   "source": [
    "import gurobipy as gp\n",
    "from gurobipy import GRB"
   ]
  },
  {
   "cell_type": "code",
   "execution_count": 2,
   "metadata": {},
   "outputs": [
    {
     "name": "stdout",
     "output_type": "stream",
     "text": [
      "Academic license - for non-commercial use only - expires 2021-03-03\n",
      "Using license file C:\\Users\\buchanan\\gurobi.lic\n",
      "Gurobi Optimizer version 9.1.1 build v9.1.1rc0 (win64)\n",
      "Thread count: 4 physical cores, 8 logical processors, using up to 8 threads\n",
      "Optimize a model with 2 rows, 2 columns and 4 nonzeros\n",
      "Model fingerprint: 0xfbf16fb4\n",
      "Coefficient statistics:\n",
      "  Matrix range     [2e+00, 4e+00]\n",
      "  Objective range  [4e+01, 8e+01]\n",
      "  Bounds range     [0e+00, 0e+00]\n",
      "  RHS range        [4e+01, 4e+01]\n",
      "Presolve time: 0.02s\n",
      "Presolved: 2 rows, 2 columns, 4 nonzeros\n",
      "\n",
      "Iteration    Objective       Primal Inf.    Dual Inf.      Time\n",
      "       0    1.1000000e+32   3.750000e+30   1.100000e+02      0s\n",
      "       2    7.5000000e+02   0.000000e+00   0.000000e+00      0s\n",
      "\n",
      "Solved in 2 iterations and 0.04 seconds\n",
      "Optimal objective  7.500000000e+02\n"
     ]
    }
   ],
   "source": [
    "m = gp.Model()\n",
    "x = m.addVar(lb=0)\n",
    "y = m.addVar(lb=0)\n",
    "m.setObjective( (50-15)*x+(100-25)*y, GRB.MAXIMIZE )\n",
    "m.addConstr( 3*x+4*y <= 40 )\n",
    "m.addConstr( 2*x+2*y <= 40 )\n",
    "m.optimize()"
   ]
  },
  {
   "cell_type": "code",
   "execution_count": 3,
   "metadata": {},
   "outputs": [
    {
     "name": "stdout",
     "output_type": "stream",
     "text": [
      "Optimal objective value = 750.0\n",
      "Number of chairs to produce each week = 0.0\n",
      "Number of tables to produce each week = 10.0\n"
     ]
    }
   ],
   "source": [
    "print(\"Optimal objective value =\",m.objVal)\n",
    "print(\"Number of chairs to produce each week =\",x.x)\n",
    "print(\"Number of tables to produce each week =\",y.x)"
   ]
  },
  {
   "cell_type": "code",
   "execution_count": null,
   "metadata": {},
   "outputs": [],
   "source": []
  }
 ],
 "metadata": {
  "kernelspec": {
   "display_name": "Python 3",
   "language": "python",
   "name": "python3"
  },
  "language_info": {
   "codemirror_mode": {
    "name": "ipython",
    "version": 3
   },
   "file_extension": ".py",
   "mimetype": "text/x-python",
   "name": "python",
   "nbconvert_exporter": "python",
   "pygments_lexer": "ipython3",
   "version": "3.8.5"
  }
 },
 "nbformat": 4,
 "nbformat_minor": 4
}
