{
 "cells": [
  {
   "cell_type": "code",
   "execution_count": 1,
   "metadata": {},
   "outputs": [],
   "source": [
    "import gurobipy as gp\n",
    "from gurobipy import GRB"
   ]
  },
  {
   "cell_type": "code",
   "execution_count": 2,
   "metadata": {},
   "outputs": [
    {
     "name": "stdout",
     "output_type": "stream",
     "text": [
      "Academic license - for non-commercial use only - expires 2021-03-03\n",
      "Using license file C:\\Users\\buchanan\\gurobi.lic\n"
     ]
    }
   ],
   "source": [
    "m = gp.Model()\n",
    "days = ['Monday','Tuesday','Wednesday','Thursday','Friday','Saturday','Sunday']\n",
    "n = len(days)   # number of days in week\n",
    "x = m.addVars(n,vtype=GRB.INTEGER)"
   ]
  },
  {
   "cell_type": "code",
   "execution_count": 3,
   "metadata": {},
   "outputs": [],
   "source": [
    "# since python arrays are zero-based, we are to:\n",
    "#   minimize x[0] + x[1] + x[2] + ... + x[6]\n",
    "m.setObjective( gp.quicksum(x[i] for i in range(n)), GRB.MINIMIZE )"
   ]
  },
  {
   "cell_type": "code",
   "execution_count": 4,
   "metadata": {},
   "outputs": [
    {
     "data": {
      "text/plain": [
       "<gurobi.Constr *Awaiting Model Update*>"
      ]
     },
     "execution_count": 4,
     "metadata": {},
     "output_type": "execute_result"
    }
   ],
   "source": [
    "# add constraints, being careful about zero-based...\n",
    "m.addConstr( x[0]+x[3]+x[4]+x[5]+x[6] >= 17 )  # monday\n",
    "m.addConstr( x[0]+x[1]+x[4]+x[5]+x[6] >= 13 )  # tuesday\n",
    "m.addConstr( x[0]+x[1]+x[2]+x[5]+x[6] >= 15 )  # wednesday\n",
    "m.addConstr( x[0]+x[1]+x[2]+x[3]+x[6] >= 19 )  # thusday\n",
    "m.addConstr( x[0]+x[1]+x[2]+x[3]+x[4] >= 14 )  # friday\n",
    "m.addConstr( x[1]+x[2]+x[3]+x[4]+x[5] >= 16 )  # saturday\n",
    "m.addConstr( x[2]+x[3]+x[4]+x[5]+x[6] >= 11 )  # sunday"
   ]
  },
  {
   "cell_type": "code",
   "execution_count": 5,
   "metadata": {},
   "outputs": [],
   "source": [
    "# add nonnegativity bounds. \n",
    "#  To my knowledge, Gurobi will assume nonnegative, so \n",
    "#  this is not strictly necessary, but still good practice\n",
    "for i in range(n):\n",
    "    x[i].lb = 0"
   ]
  },
  {
   "cell_type": "code",
   "execution_count": 6,
   "metadata": {},
   "outputs": [
    {
     "name": "stdout",
     "output_type": "stream",
     "text": [
      "Gurobi Optimizer version 9.1.1 build v9.1.1rc0 (win64)\n",
      "Thread count: 4 physical cores, 8 logical processors, using up to 8 threads\n",
      "Optimize a model with 7 rows, 7 columns and 35 nonzeros\n",
      "Model fingerprint: 0xf4fc9c66\n",
      "Variable types: 0 continuous, 7 integer (0 binary)\n",
      "Coefficient statistics:\n",
      "  Matrix range     [1e+00, 1e+00]\n",
      "  Objective range  [1e+00, 1e+00]\n",
      "  Bounds range     [0e+00, 0e+00]\n",
      "  RHS range        [1e+01, 2e+01]\n",
      "Found heuristic solution: objective 35.0000000\n",
      "Presolve time: 0.00s\n",
      "Presolved: 7 rows, 7 columns, 35 nonzeros\n",
      "Variable types: 0 continuous, 7 integer (0 binary)\n",
      "\n",
      "Root relaxation: objective 2.233333e+01, 5 iterations, 0.00 seconds\n",
      "\n",
      "    Nodes    |    Current Node    |     Objective Bounds      |     Work\n",
      " Expl Unexpl |  Obj  Depth IntInf | Incumbent    BestBd   Gap | It/Node Time\n",
      "\n",
      "     0     0   22.33333    0    4   35.00000   22.33333  36.2%     -    0s\n",
      "H    0     0                      23.0000000   22.33333  2.90%     -    0s\n",
      "     0     0   22.33333    0    4   23.00000   22.33333  2.90%     -    0s\n",
      "\n",
      "Explored 1 nodes (5 simplex iterations) in 0.01 seconds\n",
      "Thread count was 8 (of 8 available processors)\n",
      "\n",
      "Solution count 2: 23 35 \n",
      "\n",
      "Optimal solution found (tolerance 1.00e-04)\n",
      "Best objective 2.300000000000e+01, best bound 2.300000000000e+01, gap 0.0000%\n"
     ]
    }
   ],
   "source": [
    "m.optimize()"
   ]
  },
  {
   "cell_type": "code",
   "execution_count": 7,
   "metadata": {},
   "outputs": [
    {
     "name": "stdout",
     "output_type": "stream",
     "text": [
      "Minimum number of workers needed = 23.0\n",
      "Number starting on Monday is 7.0\n",
      "Number starting on Tuesday is 5.0\n",
      "Number starting on Wednesday is 1.0\n",
      "Number starting on Thursday is 7.0\n",
      "Number starting on Friday is -0.0\n",
      "Number starting on Saturday is 3.0\n",
      "Number starting on Sunday is -0.0\n"
     ]
    }
   ],
   "source": [
    "print(\"Minimum number of workers needed =\",m.objVal)\n",
    "\n",
    "for i in range(n):\n",
    "    print(\"Number starting on\",days[i],\"is\",x[i].x)"
   ]
  },
  {
   "cell_type": "code",
   "execution_count": null,
   "metadata": {},
   "outputs": [],
   "source": []
  }
 ],
 "metadata": {
  "kernelspec": {
   "display_name": "Python 3",
   "language": "python",
   "name": "python3"
  },
  "language_info": {
   "codemirror_mode": {
    "name": "ipython",
    "version": 3
   },
   "file_extension": ".py",
   "mimetype": "text/x-python",
   "name": "python",
   "nbconvert_exporter": "python",
   "pygments_lexer": "ipython3",
   "version": "3.8.5"
  }
 },
 "nbformat": 4,
 "nbformat_minor": 4
}
