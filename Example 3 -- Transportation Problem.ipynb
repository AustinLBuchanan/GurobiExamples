{
 "cells": [
  {
   "cell_type": "code",
   "execution_count": 1,
   "metadata": {},
   "outputs": [],
   "source": [
    "# create Python dictionary for supply info\n",
    "ship_froms_supply = {'Oklahoma City, OK' : 2000, 'Boulder, CO' : 2000, 'Asheville, NC' : 2000}\n",
    "\n",
    "# create Python dictionary for demand info\n",
    "ship_tos_demand = {'Austin, TX' : 500, 'Baltimore, MD' : 300, 'Charlotte, NC' : 100, 'Chicago, IL' : 400, \n",
    "                   'Columbus, OH' : 150, 'Dallas, TX' : 500, 'Detroit, MI' : 150, 'Fort Worth, TX' : 150, \n",
    "                   'Houston, TX' : 500, 'Indianapolis, IN' : 150, 'Jacksonville, FL' : 100, 'Los Angeles, CA' : 1000, \n",
    "                   'Memphis, TN' : 200, 'New York, NY' : 500, 'Philadelphia, PA' : 250, 'Phoenix, AZ' : 150, \n",
    "                   'San Antonio, TX' : 150, 'San Diego, CA' : 300, 'San Francisco, CA' : 250, 'San Jose, CA' : 200}"
   ]
  },
  {
   "cell_type": "code",
   "execution_count": 2,
   "metadata": {},
   "outputs": [
    {
     "name": "stdout",
     "output_type": "stream",
     "text": [
      "Supply at Oklahoma City, OK is 2000\n",
      "Supply at Boulder, CO is 2000\n",
      "Supply at Asheville, NC is 2000\n"
     ]
    }
   ],
   "source": [
    "# test the supply dictionary\n",
    "for ship_from in ship_froms_supply.keys():\n",
    "    print(\"Supply at\",ship_from,\"is\",ship_froms_supply[ship_from])"
   ]
  },
  {
   "cell_type": "code",
   "execution_count": 3,
   "metadata": {},
   "outputs": [
    {
     "name": "stdout",
     "output_type": "stream",
     "text": [
      "Demand at Austin, TX is 500\n",
      "Demand at Baltimore, MD is 300\n",
      "Demand at Charlotte, NC is 100\n",
      "Demand at Chicago, IL is 400\n",
      "Demand at Columbus, OH is 150\n",
      "Demand at Dallas, TX is 500\n",
      "Demand at Detroit, MI is 150\n",
      "Demand at Fort Worth, TX is 150\n",
      "Demand at Houston, TX is 500\n",
      "Demand at Indianapolis, IN is 150\n",
      "Demand at Jacksonville, FL is 100\n",
      "Demand at Los Angeles, CA is 1000\n",
      "Demand at Memphis, TN is 200\n",
      "Demand at New York, NY is 500\n",
      "Demand at Philadelphia, PA is 250\n",
      "Demand at Phoenix, AZ is 150\n",
      "Demand at San Antonio, TX is 150\n",
      "Demand at San Diego, CA is 300\n",
      "Demand at San Francisco, CA is 250\n",
      "Demand at San Jose, CA is 200\n"
     ]
    }
   ],
   "source": [
    "# test the demand dictionary\n",
    "for ship_to in ship_tos_demand.keys():\n",
    "    print(\"Demand at\",ship_to,\"is\",ship_tos_demand[ship_to])"
   ]
  },
  {
   "cell_type": "code",
   "execution_count": 4,
   "metadata": {},
   "outputs": [],
   "source": [
    "# distance dictionary, (from,to) : mileage\n",
    "distance_in_miles = {\n",
    "    ( 'Oklahoma City, OK', 'Fort Worth, TX') : 203,\n",
    "    ( 'Oklahoma City, OK', 'Dallas, TX') : 205,\n",
    "    ( 'Oklahoma City, OK', 'Austin, TX') : 388,\n",
    "    ( 'Oklahoma City, OK', 'Houston, TX') : 444,\n",
    "    ( 'Oklahoma City, OK', 'Memphis, TN') : 467,\n",
    "    ( 'Oklahoma City, OK', 'San Antonio, TX') : 467,\n",
    "    ( 'Oklahoma City, OK', 'Indianapolis, IN') : 740,\n",
    "    ( 'Oklahoma City, OK', 'Chicago, IL') : 794,\n",
    "    ( 'Oklahoma City, OK', 'Columbus, OH') : 916,\n",
    "    ( 'Oklahoma City, OK', 'Phoenix, AZ') : 959,\n",
    "    ( 'Oklahoma City, OK', 'Detroit, MI') : 1048,\n",
    "    ( 'Oklahoma City, OK', 'Charlotte, NC') : 1093,\n",
    "    ( 'Oklahoma City, OK', 'Jacksonville, FL') : 1194,\n",
    "    ( 'Oklahoma City, OK', 'San Diego, CA') : 1312,\n",
    "    ( 'Oklahoma City, OK', 'Baltimore, MD') : 1319,\n",
    "    ( 'Oklahoma City, OK', 'Los Angeles, CA') : 1329,\n",
    "    ( 'Oklahoma City, OK', 'Philadelphia, PA') : 1384,\n",
    "    ( 'Oklahoma City, OK', 'New York, NY') : 1448,\n",
    "    ( 'Oklahoma City, OK', 'San Jose, CA') : 1585,\n",
    "    ( 'Oklahoma City, OK', 'San Francisco, CA') : 1626,\n",
    "    ( 'Boulder, CO', 'Fort Worth, TX') : 781,\n",
    "    ( 'Boulder, CO', 'Dallas, TX') : 823,\n",
    "    ( 'Boulder, CO', 'Phoenix, AZ') : 833,\n",
    "    ( 'Boulder, CO', 'Austin, TX') : 947,\n",
    "    ( 'Boulder, CO', 'San Antonio, TX') : 960,\n",
    "    ( 'Boulder, CO', 'Chicago, IL') : 1019,\n",
    "    ( 'Boulder, CO', 'Los Angeles, CA') : 1028,\n",
    "    ( 'Boulder, CO', 'Houston, TX') : 1057,\n",
    "    ( 'Boulder, CO', 'San Diego, CA') : 1090,\n",
    "    ( 'Boulder, CO', 'Indianapolis, IN') : 1104,\n",
    "    ( 'Boulder, CO', 'Memphis, TN') : 1114,\n",
    "    ( 'Boulder, CO', 'San Francisco, CA') : 1251,\n",
    "    ( 'Boulder, CO', 'Columbus, OH') : 1281,\n",
    "    ( 'Boulder, CO', 'Detroit, MI') : 1285,\n",
    "    ( 'Boulder, CO', 'San Jose, CA') : 1289,\n",
    "    ( 'Boulder, CO', 'Charlotte, NC') : 1583,\n",
    "    ( 'Boulder, CO', 'Baltimore, MD') : 1707,\n",
    "    ( 'Boulder, CO', 'Philadelphia, PA') : 1764,\n",
    "    ( 'Boulder, CO', 'Jacksonville, FL') : 1768,\n",
    "    ( 'Boulder, CO', 'New York, NY') : 1795,\n",
    "    ( 'Asheville, NC', 'Charlotte, NC') : 130,\n",
    "    ( 'Asheville, NC', 'Columbus, OH') : 392,\n",
    "    ( 'Asheville, NC', 'Jacksonville, FL') : 442,\n",
    "    ( 'Asheville, NC', 'Indianapolis, IN') : 470,\n",
    "    ( 'Asheville, NC', 'Memphis, TN') : 505,\n",
    "    ( 'Asheville, NC', 'Baltimore, MD') : 507,\n",
    "    ( 'Asheville, NC', 'Philadelphia, PA') : 609,\n",
    "    ( 'Asheville, NC', 'Detroit, MI') : 625,\n",
    "    ( 'Asheville, NC', 'Chicago, IL') : 651,\n",
    "    ( 'Asheville, NC', 'New York, NY') : 689,\n",
    "    ( 'Asheville, NC', 'Dallas, TX') : 957,\n",
    "    ( 'Asheville, NC', 'Fort Worth, TX') : 991,\n",
    "    ( 'Asheville, NC', 'Houston, TX') : 999,\n",
    "    ( 'Asheville, NC', 'Austin, TX') : 1151,\n",
    "    ( 'Asheville, NC', 'San Antonio, TX') : 1197,\n",
    "    ( 'Asheville, NC', 'Phoenix, AZ') : 1978,\n",
    "    ( 'Asheville, NC', 'Los Angeles, CA') : 2299,\n",
    "    ( 'Asheville, NC', 'San Diego, CA') : 2317,\n",
    "    ( 'Asheville, NC', 'San Jose, CA') : 2560,\n",
    "    ( 'Asheville, NC', 'San Francisco, CA') : 2595\n",
    "}"
   ]
  },
  {
   "cell_type": "code",
   "execution_count": 5,
   "metadata": {},
   "outputs": [
    {
     "data": {
      "text/plain": [
       "388"
      ]
     },
     "execution_count": 5,
     "metadata": {},
     "output_type": "execute_result"
    }
   ],
   "source": [
    "# test the distance dictionary\n",
    "distance_in_miles[('Oklahoma City, OK', 'Austin, TX')]"
   ]
  },
  {
   "cell_type": "code",
   "execution_count": 6,
   "metadata": {},
   "outputs": [
    {
     "name": "stdout",
     "output_type": "stream",
     "text": [
      "Ship froms:  ['Oklahoma City, OK', 'Boulder, CO', 'Asheville, NC']\n",
      "Ship tos:  ['Austin, TX', 'Baltimore, MD', 'Charlotte, NC', 'Chicago, IL', 'Columbus, OH', 'Dallas, TX', 'Detroit, MI', 'Fort Worth, TX', 'Houston, TX', 'Indianapolis, IN', 'Jacksonville, FL', 'Los Angeles, CA', 'Memphis, TN', 'New York, NY', 'Philadelphia, PA', 'Phoenix, AZ', 'San Antonio, TX', 'San Diego, CA', 'San Francisco, CA', 'San Jose, CA']\n"
     ]
    }
   ],
   "source": [
    "ship_froms = [key for key in ship_froms_supply.keys()]\n",
    "ship_tos = [key for key in ship_tos_demand.keys()]\n",
    "print(\"Ship froms: \",ship_froms)\n",
    "print(\"Ship tos: \",ship_tos)"
   ]
  },
  {
   "cell_type": "code",
   "execution_count": 7,
   "metadata": {},
   "outputs": [],
   "source": [
    "import gurobipy as gp\n",
    "from gurobipy import GRB"
   ]
  },
  {
   "cell_type": "code",
   "execution_count": 8,
   "metadata": {},
   "outputs": [
    {
     "name": "stdout",
     "output_type": "stream",
     "text": [
      "Academic license - for non-commercial use only - expires 2021-03-03\n",
      "Using license file C:\\Users\\buchanan\\gurobi.lic\n"
     ]
    }
   ],
   "source": [
    "m = gp.Model()\n",
    "# create 2-dimension vars x_ij\n",
    "x = m.addVars(ship_froms,ship_tos)\n",
    "\n",
    "# ensure that x is nonnegative. (Gurobi will assume x nonnegative, but let's be clear about this)\n",
    "for i in ship_froms:\n",
    "    for j in ship_tos:\n",
    "        x[i,j].lb = 0"
   ]
  },
  {
   "cell_type": "code",
   "execution_count": 9,
   "metadata": {},
   "outputs": [],
   "source": [
    "# set objective function (minimize transportation cost)\n",
    "c = 0.50 # cost per mile, assume $0.50\n",
    "n = 30   # number of drums sets that can fit on one truck, assume 30\n",
    "\n",
    "m.setObjective( (c/n)*gp.quicksum(distance_in_miles[sf,st]*x[sf,st] for sf in ship_froms for st in ship_tos), GRB.MINIMIZE )"
   ]
  },
  {
   "cell_type": "code",
   "execution_count": 10,
   "metadata": {},
   "outputs": [
    {
     "data": {
      "text/plain": [
       "{'Oklahoma City, OK': <gurobi.Constr *Awaiting Model Update*>,\n",
       " 'Boulder, CO': <gurobi.Constr *Awaiting Model Update*>,\n",
       " 'Asheville, NC': <gurobi.Constr *Awaiting Model Update*>}"
      ]
     },
     "execution_count": 10,
     "metadata": {},
     "output_type": "execute_result"
    }
   ],
   "source": [
    "# add supply constraints\n",
    "m.addConstrs( gp.quicksum(x[sf,st] for st in ship_tos)==ship_froms_supply[sf] for sf in ship_froms)"
   ]
  },
  {
   "cell_type": "code",
   "execution_count": 11,
   "metadata": {},
   "outputs": [
    {
     "data": {
      "text/plain": [
       "{'Austin, TX': <gurobi.Constr *Awaiting Model Update*>,\n",
       " 'Baltimore, MD': <gurobi.Constr *Awaiting Model Update*>,\n",
       " 'Charlotte, NC': <gurobi.Constr *Awaiting Model Update*>,\n",
       " 'Chicago, IL': <gurobi.Constr *Awaiting Model Update*>,\n",
       " 'Columbus, OH': <gurobi.Constr *Awaiting Model Update*>,\n",
       " 'Dallas, TX': <gurobi.Constr *Awaiting Model Update*>,\n",
       " 'Detroit, MI': <gurobi.Constr *Awaiting Model Update*>,\n",
       " 'Fort Worth, TX': <gurobi.Constr *Awaiting Model Update*>,\n",
       " 'Houston, TX': <gurobi.Constr *Awaiting Model Update*>,\n",
       " 'Indianapolis, IN': <gurobi.Constr *Awaiting Model Update*>,\n",
       " 'Jacksonville, FL': <gurobi.Constr *Awaiting Model Update*>,\n",
       " 'Los Angeles, CA': <gurobi.Constr *Awaiting Model Update*>,\n",
       " 'Memphis, TN': <gurobi.Constr *Awaiting Model Update*>,\n",
       " 'New York, NY': <gurobi.Constr *Awaiting Model Update*>,\n",
       " 'Philadelphia, PA': <gurobi.Constr *Awaiting Model Update*>,\n",
       " 'Phoenix, AZ': <gurobi.Constr *Awaiting Model Update*>,\n",
       " 'San Antonio, TX': <gurobi.Constr *Awaiting Model Update*>,\n",
       " 'San Diego, CA': <gurobi.Constr *Awaiting Model Update*>,\n",
       " 'San Francisco, CA': <gurobi.Constr *Awaiting Model Update*>,\n",
       " 'San Jose, CA': <gurobi.Constr *Awaiting Model Update*>}"
      ]
     },
     "execution_count": 11,
     "metadata": {},
     "output_type": "execute_result"
    }
   ],
   "source": [
    "# add demand constraints\n",
    "m.addConstrs( gp.quicksum(x[sf,st] for sf in ship_froms)==ship_tos_demand[st] for st in ship_tos)"
   ]
  },
  {
   "cell_type": "code",
   "execution_count": 12,
   "metadata": {},
   "outputs": [
    {
     "name": "stdout",
     "output_type": "stream",
     "text": [
      "Gurobi Optimizer version 9.1.1 build v9.1.1rc0 (win64)\n",
      "Thread count: 4 physical cores, 8 logical processors, using up to 8 threads\n",
      "Optimize a model with 23 rows, 60 columns and 120 nonzeros\n",
      "Model fingerprint: 0x4aae47ae\n",
      "Coefficient statistics:\n",
      "  Matrix range     [1e+00, 1e+00]\n",
      "  Objective range  [2e+00, 4e+01]\n",
      "  Bounds range     [0e+00, 0e+00]\n",
      "  RHS range        [1e+02, 2e+03]\n",
      "Presolve time: 0.00s\n",
      "Presolved: 23 rows, 60 columns, 120 nonzeros\n",
      "\n",
      "Iteration    Objective       Primal Inf.    Dual Inf.      Time\n",
      "       0    6.5873333e+04   2.000000e+02   0.000000e+00      0s\n",
      "       1    6.6486667e+04   0.000000e+00   0.000000e+00      0s\n",
      "\n",
      "Solved in 1 iterations and 0.01 seconds\n",
      "Optimal objective  6.648666667e+04\n"
     ]
    }
   ],
   "source": [
    "# solve model\n",
    "m.optimize()"
   ]
  },
  {
   "cell_type": "code",
   "execution_count": 13,
   "metadata": {},
   "outputs": [
    {
     "name": "stdout",
     "output_type": "stream",
     "text": [
      "Objective value = 66486.66666666666\n",
      "Number of drum sets shipped:\n",
      "Oklahoma City, OK -> Austin, TX 500.0\n",
      "Oklahoma City, OK -> Baltimore, MD 0.0\n",
      "Oklahoma City, OK -> Charlotte, NC 0.0\n",
      "Oklahoma City, OK -> Chicago, IL 0.0\n",
      "Oklahoma City, OK -> Columbus, OH 0.0\n",
      "Oklahoma City, OK -> Dallas, TX 500.0\n",
      "Oklahoma City, OK -> Detroit, MI 0.0\n",
      "Oklahoma City, OK -> Fort Worth, TX 150.0\n",
      "Oklahoma City, OK -> Houston, TX 500.0\n",
      "Oklahoma City, OK -> Indianapolis, IN 0.0\n",
      "Oklahoma City, OK -> Jacksonville, FL 0.0\n",
      "Oklahoma City, OK -> Los Angeles, CA 0.0\n",
      "Oklahoma City, OK -> Memphis, TN 200.0\n",
      "Oklahoma City, OK -> New York, NY 0.0\n",
      "Oklahoma City, OK -> Philadelphia, PA 0.0\n",
      "Oklahoma City, OK -> Phoenix, AZ 0.0\n",
      "Oklahoma City, OK -> San Antonio, TX 150.0\n",
      "Oklahoma City, OK -> San Diego, CA 0.0\n",
      "Oklahoma City, OK -> San Francisco, CA 0.0\n",
      "Oklahoma City, OK -> San Jose, CA 0.0\n",
      "Boulder, CO -> Austin, TX 0.0\n",
      "Boulder, CO -> Baltimore, MD 0.0\n",
      "Boulder, CO -> Charlotte, NC 0.0\n",
      "Boulder, CO -> Chicago, IL 100.0\n",
      "Boulder, CO -> Columbus, OH 0.0\n",
      "Boulder, CO -> Dallas, TX 0.0\n",
      "Boulder, CO -> Detroit, MI 0.0\n",
      "Boulder, CO -> Fort Worth, TX 0.0\n",
      "Boulder, CO -> Houston, TX 0.0\n",
      "Boulder, CO -> Indianapolis, IN 0.0\n",
      "Boulder, CO -> Jacksonville, FL 0.0\n",
      "Boulder, CO -> Los Angeles, CA 1000.0\n",
      "Boulder, CO -> Memphis, TN 0.0\n",
      "Boulder, CO -> New York, NY 0.0\n",
      "Boulder, CO -> Philadelphia, PA 0.0\n",
      "Boulder, CO -> Phoenix, AZ 150.0\n",
      "Boulder, CO -> San Antonio, TX 0.0\n",
      "Boulder, CO -> San Diego, CA 300.0\n",
      "Boulder, CO -> San Francisco, CA 250.0\n",
      "Boulder, CO -> San Jose, CA 200.0\n",
      "Asheville, NC -> Austin, TX 0.0\n",
      "Asheville, NC -> Baltimore, MD 300.0\n",
      "Asheville, NC -> Charlotte, NC 100.0\n",
      "Asheville, NC -> Chicago, IL 300.0\n",
      "Asheville, NC -> Columbus, OH 150.0\n",
      "Asheville, NC -> Dallas, TX 0.0\n",
      "Asheville, NC -> Detroit, MI 150.0\n",
      "Asheville, NC -> Fort Worth, TX 0.0\n",
      "Asheville, NC -> Houston, TX 0.0\n",
      "Asheville, NC -> Indianapolis, IN 150.0\n",
      "Asheville, NC -> Jacksonville, FL 100.0\n",
      "Asheville, NC -> Los Angeles, CA 0.0\n",
      "Asheville, NC -> Memphis, TN 0.0\n",
      "Asheville, NC -> New York, NY 500.0\n",
      "Asheville, NC -> Philadelphia, PA 250.0\n",
      "Asheville, NC -> Phoenix, AZ 0.0\n",
      "Asheville, NC -> San Antonio, TX 0.0\n",
      "Asheville, NC -> San Diego, CA 0.0\n",
      "Asheville, NC -> San Francisco, CA 0.0\n",
      "Asheville, NC -> San Jose, CA 0.0\n"
     ]
    }
   ],
   "source": [
    "# print solution\n",
    "print(\"Objective value =\",m.objVal)\n",
    "print(\"Number of drum sets shipped:\")\n",
    "for sf in ship_froms:\n",
    "    for st in ship_tos:\n",
    "        print(sf,\"->\",st,x[sf,st].x)"
   ]
  },
  {
   "cell_type": "code",
   "execution_count": 14,
   "metadata": {},
   "outputs": [
    {
     "name": "stdout",
     "output_type": "stream",
     "text": [
      "Objective value = 66486.66666666666\n",
      "Number of drum sets shipped:\n",
      "Oklahoma City, OK -> Austin, TX 500.0\n",
      "Oklahoma City, OK -> Dallas, TX 500.0\n",
      "Oklahoma City, OK -> Fort Worth, TX 150.0\n",
      "Oklahoma City, OK -> Houston, TX 500.0\n",
      "Oklahoma City, OK -> Memphis, TN 200.0\n",
      "Oklahoma City, OK -> San Antonio, TX 150.0\n",
      "Boulder, CO -> Chicago, IL 100.0\n",
      "Boulder, CO -> Los Angeles, CA 1000.0\n",
      "Boulder, CO -> Phoenix, AZ 150.0\n",
      "Boulder, CO -> San Diego, CA 300.0\n",
      "Boulder, CO -> San Francisco, CA 250.0\n",
      "Boulder, CO -> San Jose, CA 200.0\n",
      "Asheville, NC -> Baltimore, MD 300.0\n",
      "Asheville, NC -> Charlotte, NC 100.0\n",
      "Asheville, NC -> Chicago, IL 300.0\n",
      "Asheville, NC -> Columbus, OH 150.0\n",
      "Asheville, NC -> Detroit, MI 150.0\n",
      "Asheville, NC -> Indianapolis, IN 150.0\n",
      "Asheville, NC -> Jacksonville, FL 100.0\n",
      "Asheville, NC -> New York, NY 500.0\n",
      "Asheville, NC -> Philadelphia, PA 250.0\n"
     ]
    }
   ],
   "source": [
    "# print (sparse) solution\n",
    "print(\"Objective value =\",m.objVal)\n",
    "print(\"Number of drum sets shipped:\")\n",
    "for sf in ship_froms:\n",
    "    for st in ship_tos:\n",
    "        if x[sf,st].x > 0.5:\n",
    "            print(sf,\"->\",st,x[sf,st].x)"
   ]
  },
  {
   "cell_type": "code",
   "execution_count": null,
   "metadata": {},
   "outputs": [],
   "source": []
  }
 ],
 "metadata": {
  "kernelspec": {
   "display_name": "Python 3",
   "language": "python",
   "name": "python3"
  },
  "language_info": {
   "codemirror_mode": {
    "name": "ipython",
    "version": 3
   },
   "file_extension": ".py",
   "mimetype": "text/x-python",
   "name": "python",
   "nbconvert_exporter": "python",
   "pygments_lexer": "ipython3",
   "version": "3.8.5"
  }
 },
 "nbformat": 4,
 "nbformat_minor": 4
}
